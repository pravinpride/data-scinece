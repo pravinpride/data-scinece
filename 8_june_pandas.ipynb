{
 "cells": [
  {
   "cell_type": "code",
   "execution_count": 1,
   "id": "2de10cef",
   "metadata": {},
   "outputs": [],
   "source": [
    "import numpy as np\n",
    "import pandas as pd"
   ]
  },
  {
   "cell_type": "code",
   "execution_count": 2,
   "id": "ccd29e92",
   "metadata": {},
   "outputs": [],
   "source": [
    "labels = ['a','b','c']"
   ]
  },
  {
   "cell_type": "code",
   "execution_count": 3,
   "id": "9ed5ec86",
   "metadata": {},
   "outputs": [],
   "source": [
    "my_data = ['10','20','30']"
   ]
  },
  {
   "cell_type": "code",
   "execution_count": 4,
   "id": "84141262",
   "metadata": {},
   "outputs": [],
   "source": [
    "arr1 = np.array([25,89,69])"
   ]
  },
  {
   "cell_type": "code",
   "execution_count": 5,
   "id": "dfd6f267",
   "metadata": {},
   "outputs": [],
   "source": [
    "d = {'x':89,'y':100,'z':56}"
   ]
  },
  {
   "cell_type": "code",
   "execution_count": 6,
   "id": "d4ea7439",
   "metadata": {},
   "outputs": [
    {
     "data": {
      "text/plain": [
       "['10', '20', '30']"
      ]
     },
     "execution_count": 6,
     "metadata": {},
     "output_type": "execute_result"
    }
   ],
   "source": [
    "my_data"
   ]
  },
  {
   "cell_type": "code",
   "execution_count": 7,
   "id": "0a11500f",
   "metadata": {},
   "outputs": [],
   "source": [
    "ser1 = pd.Series(my_data)"
   ]
  },
  {
   "cell_type": "code",
   "execution_count": 8,
   "id": "9942a662",
   "metadata": {},
   "outputs": [
    {
     "data": {
      "text/plain": [
       "0    10\n",
       "1    20\n",
       "2    30\n",
       "dtype: object"
      ]
     },
     "execution_count": 8,
     "metadata": {},
     "output_type": "execute_result"
    }
   ],
   "source": [
    "ser1"
   ]
  },
  {
   "cell_type": "code",
   "execution_count": 9,
   "id": "cce72dc9",
   "metadata": {},
   "outputs": [
    {
     "data": {
      "text/plain": [
       "pandas.core.series.Series"
      ]
     },
     "execution_count": 9,
     "metadata": {},
     "output_type": "execute_result"
    }
   ],
   "source": [
    "type(ser1)"
   ]
  },
  {
   "cell_type": "code",
   "execution_count": 10,
   "id": "52710e89",
   "metadata": {},
   "outputs": [],
   "source": [
    "ser1 = pd.Series(my_data,index=labels)"
   ]
  },
  {
   "cell_type": "code",
   "execution_count": 11,
   "id": "d9a7428f",
   "metadata": {},
   "outputs": [
    {
     "data": {
      "text/plain": [
       "a    10\n",
       "b    20\n",
       "c    30\n",
       "dtype: object"
      ]
     },
     "execution_count": 11,
     "metadata": {},
     "output_type": "execute_result"
    }
   ],
   "source": [
    "ser1"
   ]
  },
  {
   "cell_type": "code",
   "execution_count": 12,
   "id": "9ba3c755",
   "metadata": {},
   "outputs": [],
   "source": [
    "ser2 = pd.Series(d)"
   ]
  },
  {
   "cell_type": "code",
   "execution_count": 13,
   "id": "ed22e62e",
   "metadata": {},
   "outputs": [
    {
     "data": {
      "text/plain": [
       "x     89\n",
       "y    100\n",
       "z     56\n",
       "dtype: int64"
      ]
     },
     "execution_count": 13,
     "metadata": {},
     "output_type": "execute_result"
    }
   ],
   "source": [
    "ser2"
   ]
  },
  {
   "cell_type": "code",
   "execution_count": 14,
   "id": "314434b6",
   "metadata": {},
   "outputs": [
    {
     "data": {
      "text/plain": [
       "{'x': 89, 'y': 100, 'z': 56}"
      ]
     },
     "execution_count": 14,
     "metadata": {},
     "output_type": "execute_result"
    }
   ],
   "source": [
    "d"
   ]
  },
  {
   "cell_type": "code",
   "execution_count": 15,
   "id": "b9ab616d",
   "metadata": {},
   "outputs": [],
   "source": [
    "data = np.random.rand(20)"
   ]
  },
  {
   "cell_type": "code",
   "execution_count": 16,
   "id": "d4f515af",
   "metadata": {},
   "outputs": [
    {
     "data": {
      "text/plain": [
       "array([0.4544187 , 0.32630772, 0.01549259, 0.92203483, 0.94314439,\n",
       "       0.05417598, 0.5190346 , 0.99572436, 0.00756338, 0.83115811,\n",
       "       0.21227716, 0.11584687, 0.21108222, 0.27188145, 0.1572955 ,\n",
       "       0.14024082, 0.96486666, 0.4559626 , 0.63511399, 0.77020901])"
      ]
     },
     "execution_count": 16,
     "metadata": {},
     "output_type": "execute_result"
    }
   ],
   "source": [
    "data"
   ]
  },
  {
   "cell_type": "code",
   "execution_count": 17,
   "id": "1246e2c6",
   "metadata": {},
   "outputs": [
    {
     "data": {
      "text/plain": [
       "(20,)"
      ]
     },
     "execution_count": 17,
     "metadata": {},
     "output_type": "execute_result"
    }
   ],
   "source": [
    "data.shape"
   ]
  },
  {
   "cell_type": "code",
   "execution_count": 18,
   "id": "4370d47e",
   "metadata": {},
   "outputs": [],
   "source": [
    "data = data.reshape(5,4)"
   ]
  },
  {
   "cell_type": "code",
   "execution_count": 19,
   "id": "71f8819f",
   "metadata": {},
   "outputs": [
    {
     "data": {
      "text/plain": [
       "array([[0.4544187 , 0.32630772, 0.01549259, 0.92203483],\n",
       "       [0.94314439, 0.05417598, 0.5190346 , 0.99572436],\n",
       "       [0.00756338, 0.83115811, 0.21227716, 0.11584687],\n",
       "       [0.21108222, 0.27188145, 0.1572955 , 0.14024082],\n",
       "       [0.96486666, 0.4559626 , 0.63511399, 0.77020901]])"
      ]
     },
     "execution_count": 19,
     "metadata": {},
     "output_type": "execute_result"
    }
   ],
   "source": [
    "data"
   ]
  },
  {
   "cell_type": "code",
   "execution_count": 20,
   "id": "6d77ae0a",
   "metadata": {},
   "outputs": [
    {
     "data": {
      "text/plain": [
       "(5, 4)"
      ]
     },
     "execution_count": 20,
     "metadata": {},
     "output_type": "execute_result"
    }
   ],
   "source": [
    "data.shape"
   ]
  },
  {
   "cell_type": "code",
   "execution_count": 21,
   "id": "302270a8",
   "metadata": {},
   "outputs": [
    {
     "data": {
      "text/plain": [
       "array([[0.4544187 , 0.32630772, 0.01549259, 0.92203483],\n",
       "       [0.94314439, 0.05417598, 0.5190346 , 0.99572436],\n",
       "       [0.00756338, 0.83115811, 0.21227716, 0.11584687],\n",
       "       [0.21108222, 0.27188145, 0.1572955 , 0.14024082],\n",
       "       [0.96486666, 0.4559626 , 0.63511399, 0.77020901]])"
      ]
     },
     "execution_count": 21,
     "metadata": {},
     "output_type": "execute_result"
    }
   ],
   "source": [
    "data"
   ]
  },
  {
   "cell_type": "code",
   "execution_count": 22,
   "id": "015683c0",
   "metadata": {},
   "outputs": [],
   "source": [
    "df = pd.DataFrame(data)"
   ]
  },
  {
   "cell_type": "code",
   "execution_count": 23,
   "id": "23460495",
   "metadata": {},
   "outputs": [
    {
     "data": {
      "text/html": [
       "<div>\n",
       "<style scoped>\n",
       "    .dataframe tbody tr th:only-of-type {\n",
       "        vertical-align: middle;\n",
       "    }\n",
       "\n",
       "    .dataframe tbody tr th {\n",
       "        vertical-align: top;\n",
       "    }\n",
       "\n",
       "    .dataframe thead th {\n",
       "        text-align: right;\n",
       "    }\n",
       "</style>\n",
       "<table border=\"1\" class=\"dataframe\">\n",
       "  <thead>\n",
       "    <tr style=\"text-align: right;\">\n",
       "      <th></th>\n",
       "      <th>0</th>\n",
       "      <th>1</th>\n",
       "      <th>2</th>\n",
       "      <th>3</th>\n",
       "    </tr>\n",
       "  </thead>\n",
       "  <tbody>\n",
       "    <tr>\n",
       "      <th>0</th>\n",
       "      <td>0.454419</td>\n",
       "      <td>0.326308</td>\n",
       "      <td>0.015493</td>\n",
       "      <td>0.922035</td>\n",
       "    </tr>\n",
       "    <tr>\n",
       "      <th>1</th>\n",
       "      <td>0.943144</td>\n",
       "      <td>0.054176</td>\n",
       "      <td>0.519035</td>\n",
       "      <td>0.995724</td>\n",
       "    </tr>\n",
       "    <tr>\n",
       "      <th>2</th>\n",
       "      <td>0.007563</td>\n",
       "      <td>0.831158</td>\n",
       "      <td>0.212277</td>\n",
       "      <td>0.115847</td>\n",
       "    </tr>\n",
       "    <tr>\n",
       "      <th>3</th>\n",
       "      <td>0.211082</td>\n",
       "      <td>0.271881</td>\n",
       "      <td>0.157295</td>\n",
       "      <td>0.140241</td>\n",
       "    </tr>\n",
       "    <tr>\n",
       "      <th>4</th>\n",
       "      <td>0.964867</td>\n",
       "      <td>0.455963</td>\n",
       "      <td>0.635114</td>\n",
       "      <td>0.770209</td>\n",
       "    </tr>\n",
       "  </tbody>\n",
       "</table>\n",
       "</div>"
      ],
      "text/plain": [
       "          0         1         2         3\n",
       "0  0.454419  0.326308  0.015493  0.922035\n",
       "1  0.943144  0.054176  0.519035  0.995724\n",
       "2  0.007563  0.831158  0.212277  0.115847\n",
       "3  0.211082  0.271881  0.157295  0.140241\n",
       "4  0.964867  0.455963  0.635114  0.770209"
      ]
     },
     "execution_count": 23,
     "metadata": {},
     "output_type": "execute_result"
    }
   ],
   "source": [
    "df"
   ]
  },
  {
   "cell_type": "code",
   "execution_count": 24,
   "id": "ed37e20f",
   "metadata": {},
   "outputs": [],
   "source": [
    "df = pd.DataFrame(data,columns=['tejaswini','aashima','yogesh','pravin'])"
   ]
  },
  {
   "cell_type": "code",
   "execution_count": 25,
   "id": "0a829299",
   "metadata": {},
   "outputs": [
    {
     "data": {
      "text/html": [
       "<div>\n",
       "<style scoped>\n",
       "    .dataframe tbody tr th:only-of-type {\n",
       "        vertical-align: middle;\n",
       "    }\n",
       "\n",
       "    .dataframe tbody tr th {\n",
       "        vertical-align: top;\n",
       "    }\n",
       "\n",
       "    .dataframe thead th {\n",
       "        text-align: right;\n",
       "    }\n",
       "</style>\n",
       "<table border=\"1\" class=\"dataframe\">\n",
       "  <thead>\n",
       "    <tr style=\"text-align: right;\">\n",
       "      <th></th>\n",
       "      <th>tejaswini</th>\n",
       "      <th>aashima</th>\n",
       "      <th>yogesh</th>\n",
       "      <th>pravin</th>\n",
       "    </tr>\n",
       "  </thead>\n",
       "  <tbody>\n",
       "    <tr>\n",
       "      <th>0</th>\n",
       "      <td>0.454419</td>\n",
       "      <td>0.326308</td>\n",
       "      <td>0.015493</td>\n",
       "      <td>0.922035</td>\n",
       "    </tr>\n",
       "    <tr>\n",
       "      <th>1</th>\n",
       "      <td>0.943144</td>\n",
       "      <td>0.054176</td>\n",
       "      <td>0.519035</td>\n",
       "      <td>0.995724</td>\n",
       "    </tr>\n",
       "    <tr>\n",
       "      <th>2</th>\n",
       "      <td>0.007563</td>\n",
       "      <td>0.831158</td>\n",
       "      <td>0.212277</td>\n",
       "      <td>0.115847</td>\n",
       "    </tr>\n",
       "    <tr>\n",
       "      <th>3</th>\n",
       "      <td>0.211082</td>\n",
       "      <td>0.271881</td>\n",
       "      <td>0.157295</td>\n",
       "      <td>0.140241</td>\n",
       "    </tr>\n",
       "    <tr>\n",
       "      <th>4</th>\n",
       "      <td>0.964867</td>\n",
       "      <td>0.455963</td>\n",
       "      <td>0.635114</td>\n",
       "      <td>0.770209</td>\n",
       "    </tr>\n",
       "  </tbody>\n",
       "</table>\n",
       "</div>"
      ],
      "text/plain": [
       "   tejaswini   aashima    yogesh    pravin\n",
       "0   0.454419  0.326308  0.015493  0.922035\n",
       "1   0.943144  0.054176  0.519035  0.995724\n",
       "2   0.007563  0.831158  0.212277  0.115847\n",
       "3   0.211082  0.271881  0.157295  0.140241\n",
       "4   0.964867  0.455963  0.635114  0.770209"
      ]
     },
     "execution_count": 25,
     "metadata": {},
     "output_type": "execute_result"
    }
   ],
   "source": [
    "df"
   ]
  },
  {
   "cell_type": "code",
   "execution_count": 26,
   "id": "9a480a72",
   "metadata": {},
   "outputs": [],
   "source": [
    "df = pd.DataFrame(data,columns=['tejaswini','aashima','yogesh','pravin'],index=['a','c','f','g','t'])"
   ]
  },
  {
   "cell_type": "code",
   "execution_count": 27,
   "id": "cb6fb03b",
   "metadata": {},
   "outputs": [
    {
     "data": {
      "text/html": [
       "<div>\n",
       "<style scoped>\n",
       "    .dataframe tbody tr th:only-of-type {\n",
       "        vertical-align: middle;\n",
       "    }\n",
       "\n",
       "    .dataframe tbody tr th {\n",
       "        vertical-align: top;\n",
       "    }\n",
       "\n",
       "    .dataframe thead th {\n",
       "        text-align: right;\n",
       "    }\n",
       "</style>\n",
       "<table border=\"1\" class=\"dataframe\">\n",
       "  <thead>\n",
       "    <tr style=\"text-align: right;\">\n",
       "      <th></th>\n",
       "      <th>tejaswini</th>\n",
       "      <th>aashima</th>\n",
       "      <th>yogesh</th>\n",
       "      <th>pravin</th>\n",
       "    </tr>\n",
       "  </thead>\n",
       "  <tbody>\n",
       "    <tr>\n",
       "      <th>a</th>\n",
       "      <td>0.454419</td>\n",
       "      <td>0.326308</td>\n",
       "      <td>0.015493</td>\n",
       "      <td>0.922035</td>\n",
       "    </tr>\n",
       "    <tr>\n",
       "      <th>c</th>\n",
       "      <td>0.943144</td>\n",
       "      <td>0.054176</td>\n",
       "      <td>0.519035</td>\n",
       "      <td>0.995724</td>\n",
       "    </tr>\n",
       "    <tr>\n",
       "      <th>f</th>\n",
       "      <td>0.007563</td>\n",
       "      <td>0.831158</td>\n",
       "      <td>0.212277</td>\n",
       "      <td>0.115847</td>\n",
       "    </tr>\n",
       "    <tr>\n",
       "      <th>g</th>\n",
       "      <td>0.211082</td>\n",
       "      <td>0.271881</td>\n",
       "      <td>0.157295</td>\n",
       "      <td>0.140241</td>\n",
       "    </tr>\n",
       "    <tr>\n",
       "      <th>t</th>\n",
       "      <td>0.964867</td>\n",
       "      <td>0.455963</td>\n",
       "      <td>0.635114</td>\n",
       "      <td>0.770209</td>\n",
       "    </tr>\n",
       "  </tbody>\n",
       "</table>\n",
       "</div>"
      ],
      "text/plain": [
       "   tejaswini   aashima    yogesh    pravin\n",
       "a   0.454419  0.326308  0.015493  0.922035\n",
       "c   0.943144  0.054176  0.519035  0.995724\n",
       "f   0.007563  0.831158  0.212277  0.115847\n",
       "g   0.211082  0.271881  0.157295  0.140241\n",
       "t   0.964867  0.455963  0.635114  0.770209"
      ]
     },
     "execution_count": 27,
     "metadata": {},
     "output_type": "execute_result"
    }
   ],
   "source": [
    "df"
   ]
  },
  {
   "cell_type": "code",
   "execution_count": 28,
   "id": "7aafb6f3",
   "metadata": {},
   "outputs": [],
   "source": [
    "df1 = pd.read_csv('sat.csv')"
   ]
  },
  {
   "cell_type": "code",
   "execution_count": 29,
   "id": "e4e9fe4c",
   "metadata": {},
   "outputs": [
    {
     "data": {
      "text/html": [
       "<div>\n",
       "<style scoped>\n",
       "    .dataframe tbody tr th:only-of-type {\n",
       "        vertical-align: middle;\n",
       "    }\n",
       "\n",
       "    .dataframe tbody tr th {\n",
       "        vertical-align: top;\n",
       "    }\n",
       "\n",
       "    .dataframe thead th {\n",
       "        text-align: right;\n",
       "    }\n",
       "</style>\n",
       "<table border=\"1\" class=\"dataframe\">\n",
       "  <thead>\n",
       "    <tr style=\"text-align: right;\">\n",
       "      <th></th>\n",
       "      <th>SAT</th>\n",
       "      <th>GPA</th>\n",
       "    </tr>\n",
       "  </thead>\n",
       "  <tbody>\n",
       "    <tr>\n",
       "      <th>0</th>\n",
       "      <td>1714</td>\n",
       "      <td>2.40</td>\n",
       "    </tr>\n",
       "    <tr>\n",
       "      <th>1</th>\n",
       "      <td>1664</td>\n",
       "      <td>2.52</td>\n",
       "    </tr>\n",
       "    <tr>\n",
       "      <th>2</th>\n",
       "      <td>1760</td>\n",
       "      <td>2.54</td>\n",
       "    </tr>\n",
       "    <tr>\n",
       "      <th>3</th>\n",
       "      <td>1685</td>\n",
       "      <td>2.74</td>\n",
       "    </tr>\n",
       "    <tr>\n",
       "      <th>4</th>\n",
       "      <td>1693</td>\n",
       "      <td>2.83</td>\n",
       "    </tr>\n",
       "    <tr>\n",
       "      <th>...</th>\n",
       "      <td>...</td>\n",
       "      <td>...</td>\n",
       "    </tr>\n",
       "    <tr>\n",
       "      <th>79</th>\n",
       "      <td>1936</td>\n",
       "      <td>3.71</td>\n",
       "    </tr>\n",
       "    <tr>\n",
       "      <th>80</th>\n",
       "      <td>1810</td>\n",
       "      <td>3.71</td>\n",
       "    </tr>\n",
       "    <tr>\n",
       "      <th>81</th>\n",
       "      <td>1987</td>\n",
       "      <td>3.73</td>\n",
       "    </tr>\n",
       "    <tr>\n",
       "      <th>82</th>\n",
       "      <td>1962</td>\n",
       "      <td>3.76</td>\n",
       "    </tr>\n",
       "    <tr>\n",
       "      <th>83</th>\n",
       "      <td>2050</td>\n",
       "      <td>3.81</td>\n",
       "    </tr>\n",
       "  </tbody>\n",
       "</table>\n",
       "<p>84 rows × 2 columns</p>\n",
       "</div>"
      ],
      "text/plain": [
       "     SAT   GPA\n",
       "0   1714  2.40\n",
       "1   1664  2.52\n",
       "2   1760  2.54\n",
       "3   1685  2.74\n",
       "4   1693  2.83\n",
       "..   ...   ...\n",
       "79  1936  3.71\n",
       "80  1810  3.71\n",
       "81  1987  3.73\n",
       "82  1962  3.76\n",
       "83  2050  3.81\n",
       "\n",
       "[84 rows x 2 columns]"
      ]
     },
     "execution_count": 29,
     "metadata": {},
     "output_type": "execute_result"
    }
   ],
   "source": [
    "df1"
   ]
  },
  {
   "cell_type": "code",
   "execution_count": 29,
   "id": "0ccb913c",
   "metadata": {},
   "outputs": [],
   "source": [
    "df3 = pd.read_csv('test.csv')"
   ]
  },
  {
   "cell_type": "code",
   "execution_count": 30,
   "id": "28fe70dc",
   "metadata": {},
   "outputs": [
    {
     "data": {
      "text/html": [
       "<div>\n",
       "<style scoped>\n",
       "    .dataframe tbody tr th:only-of-type {\n",
       "        vertical-align: middle;\n",
       "    }\n",
       "\n",
       "    .dataframe tbody tr th {\n",
       "        vertical-align: top;\n",
       "    }\n",
       "\n",
       "    .dataframe thead th {\n",
       "        text-align: right;\n",
       "    }\n",
       "</style>\n",
       "<table border=\"1\" class=\"dataframe\">\n",
       "  <thead>\n",
       "    <tr style=\"text-align: right;\">\n",
       "      <th></th>\n",
       "      <th>name</th>\n",
       "      <th>salary</th>\n",
       "    </tr>\n",
       "  </thead>\n",
       "  <tbody>\n",
       "    <tr>\n",
       "      <th>0</th>\n",
       "      <td>aashima</td>\n",
       "      <td>2000</td>\n",
       "    </tr>\n",
       "    <tr>\n",
       "      <th>1</th>\n",
       "      <td>dany</td>\n",
       "      <td>1000</td>\n",
       "    </tr>\n",
       "    <tr>\n",
       "      <th>2</th>\n",
       "      <td>pravin</td>\n",
       "      <td>4500</td>\n",
       "    </tr>\n",
       "    <tr>\n",
       "      <th>3</th>\n",
       "      <td>isha</td>\n",
       "      <td>2569</td>\n",
       "    </tr>\n",
       "    <tr>\n",
       "      <th>4</th>\n",
       "      <td>yogesh</td>\n",
       "      <td>4569</td>\n",
       "    </tr>\n",
       "  </tbody>\n",
       "</table>\n",
       "</div>"
      ],
      "text/plain": [
       "      name  salary\n",
       "0  aashima    2000\n",
       "1     dany    1000\n",
       "2   pravin    4500\n",
       "3     isha    2569\n",
       "4   yogesh    4569"
      ]
     },
     "execution_count": 30,
     "metadata": {},
     "output_type": "execute_result"
    }
   ],
   "source": [
    "df3"
   ]
  },
  {
   "cell_type": "code",
   "execution_count": 31,
   "id": "93cea35a",
   "metadata": {},
   "outputs": [
    {
     "data": {
      "text/html": [
       "<div>\n",
       "<style scoped>\n",
       "    .dataframe tbody tr th:only-of-type {\n",
       "        vertical-align: middle;\n",
       "    }\n",
       "\n",
       "    .dataframe tbody tr th {\n",
       "        vertical-align: top;\n",
       "    }\n",
       "\n",
       "    .dataframe thead th {\n",
       "        text-align: right;\n",
       "    }\n",
       "</style>\n",
       "<table border=\"1\" class=\"dataframe\">\n",
       "  <thead>\n",
       "    <tr style=\"text-align: right;\">\n",
       "      <th></th>\n",
       "      <th>tejaswini</th>\n",
       "      <th>aashima</th>\n",
       "      <th>yogesh</th>\n",
       "      <th>pravin</th>\n",
       "    </tr>\n",
       "  </thead>\n",
       "  <tbody>\n",
       "    <tr>\n",
       "      <th>a</th>\n",
       "      <td>0.339868</td>\n",
       "      <td>0.332858</td>\n",
       "      <td>0.556951</td>\n",
       "      <td>0.839451</td>\n",
       "    </tr>\n",
       "    <tr>\n",
       "      <th>c</th>\n",
       "      <td>0.777873</td>\n",
       "      <td>0.883521</td>\n",
       "      <td>0.680753</td>\n",
       "      <td>0.104139</td>\n",
       "    </tr>\n",
       "    <tr>\n",
       "      <th>f</th>\n",
       "      <td>0.754932</td>\n",
       "      <td>0.469042</td>\n",
       "      <td>0.202435</td>\n",
       "      <td>0.940436</td>\n",
       "    </tr>\n",
       "    <tr>\n",
       "      <th>g</th>\n",
       "      <td>0.351099</td>\n",
       "      <td>0.548193</td>\n",
       "      <td>0.478534</td>\n",
       "      <td>0.201357</td>\n",
       "    </tr>\n",
       "    <tr>\n",
       "      <th>t</th>\n",
       "      <td>0.582357</td>\n",
       "      <td>0.209079</td>\n",
       "      <td>0.989024</td>\n",
       "      <td>0.314500</td>\n",
       "    </tr>\n",
       "  </tbody>\n",
       "</table>\n",
       "</div>"
      ],
      "text/plain": [
       "   tejaswini   aashima    yogesh    pravin\n",
       "a   0.339868  0.332858  0.556951  0.839451\n",
       "c   0.777873  0.883521  0.680753  0.104139\n",
       "f   0.754932  0.469042  0.202435  0.940436\n",
       "g   0.351099  0.548193  0.478534  0.201357\n",
       "t   0.582357  0.209079  0.989024  0.314500"
      ]
     },
     "execution_count": 31,
     "metadata": {},
     "output_type": "execute_result"
    }
   ],
   "source": [
    "df"
   ]
  },
  {
   "cell_type": "code",
   "execution_count": 32,
   "id": "d6daa4ea",
   "metadata": {},
   "outputs": [
    {
     "data": {
      "text/plain": [
       "(5, 4)"
      ]
     },
     "execution_count": 32,
     "metadata": {},
     "output_type": "execute_result"
    }
   ],
   "source": [
    "df.shape"
   ]
  },
  {
   "cell_type": "code",
   "execution_count": 33,
   "id": "bc2f3fc3",
   "metadata": {},
   "outputs": [
    {
     "data": {
      "text/plain": [
       "a    0.556951\n",
       "c    0.680753\n",
       "f    0.202435\n",
       "g    0.478534\n",
       "t    0.989024\n",
       "Name: yogesh, dtype: float64"
      ]
     },
     "execution_count": 33,
     "metadata": {},
     "output_type": "execute_result"
    }
   ],
   "source": [
    "df['yogesh']"
   ]
  },
  {
   "cell_type": "code",
   "execution_count": 34,
   "id": "87c415ae",
   "metadata": {},
   "outputs": [
    {
     "data": {
      "text/plain": [
       "a    0.332858\n",
       "c    0.883521\n",
       "f    0.469042\n",
       "g    0.548193\n",
       "t    0.209079\n",
       "Name: aashima, dtype: float64"
      ]
     },
     "execution_count": 34,
     "metadata": {},
     "output_type": "execute_result"
    }
   ],
   "source": [
    "df['aashima']"
   ]
  },
  {
   "cell_type": "code",
   "execution_count": 35,
   "id": "53600168",
   "metadata": {},
   "outputs": [
    {
     "data": {
      "text/html": [
       "<div>\n",
       "<style scoped>\n",
       "    .dataframe tbody tr th:only-of-type {\n",
       "        vertical-align: middle;\n",
       "    }\n",
       "\n",
       "    .dataframe tbody tr th {\n",
       "        vertical-align: top;\n",
       "    }\n",
       "\n",
       "    .dataframe thead th {\n",
       "        text-align: right;\n",
       "    }\n",
       "</style>\n",
       "<table border=\"1\" class=\"dataframe\">\n",
       "  <thead>\n",
       "    <tr style=\"text-align: right;\">\n",
       "      <th></th>\n",
       "      <th>tejaswini</th>\n",
       "      <th>aashima</th>\n",
       "      <th>yogesh</th>\n",
       "      <th>pravin</th>\n",
       "    </tr>\n",
       "  </thead>\n",
       "  <tbody>\n",
       "    <tr>\n",
       "      <th>a</th>\n",
       "      <td>0.339868</td>\n",
       "      <td>0.332858</td>\n",
       "      <td>0.556951</td>\n",
       "      <td>0.839451</td>\n",
       "    </tr>\n",
       "    <tr>\n",
       "      <th>c</th>\n",
       "      <td>0.777873</td>\n",
       "      <td>0.883521</td>\n",
       "      <td>0.680753</td>\n",
       "      <td>0.104139</td>\n",
       "    </tr>\n",
       "    <tr>\n",
       "      <th>f</th>\n",
       "      <td>0.754932</td>\n",
       "      <td>0.469042</td>\n",
       "      <td>0.202435</td>\n",
       "      <td>0.940436</td>\n",
       "    </tr>\n",
       "    <tr>\n",
       "      <th>g</th>\n",
       "      <td>0.351099</td>\n",
       "      <td>0.548193</td>\n",
       "      <td>0.478534</td>\n",
       "      <td>0.201357</td>\n",
       "    </tr>\n",
       "    <tr>\n",
       "      <th>t</th>\n",
       "      <td>0.582357</td>\n",
       "      <td>0.209079</td>\n",
       "      <td>0.989024</td>\n",
       "      <td>0.314500</td>\n",
       "    </tr>\n",
       "  </tbody>\n",
       "</table>\n",
       "</div>"
      ],
      "text/plain": [
       "   tejaswini   aashima    yogesh    pravin\n",
       "a   0.339868  0.332858  0.556951  0.839451\n",
       "c   0.777873  0.883521  0.680753  0.104139\n",
       "f   0.754932  0.469042  0.202435  0.940436\n",
       "g   0.351099  0.548193  0.478534  0.201357\n",
       "t   0.582357  0.209079  0.989024  0.314500"
      ]
     },
     "execution_count": 35,
     "metadata": {},
     "output_type": "execute_result"
    }
   ],
   "source": [
    "df"
   ]
  },
  {
   "cell_type": "code",
   "execution_count": 36,
   "id": "6cb15849",
   "metadata": {},
   "outputs": [
    {
     "data": {
      "text/html": [
       "<div>\n",
       "<style scoped>\n",
       "    .dataframe tbody tr th:only-of-type {\n",
       "        vertical-align: middle;\n",
       "    }\n",
       "\n",
       "    .dataframe tbody tr th {\n",
       "        vertical-align: top;\n",
       "    }\n",
       "\n",
       "    .dataframe thead th {\n",
       "        text-align: right;\n",
       "    }\n",
       "</style>\n",
       "<table border=\"1\" class=\"dataframe\">\n",
       "  <thead>\n",
       "    <tr style=\"text-align: right;\">\n",
       "      <th></th>\n",
       "      <th>aashima</th>\n",
       "      <th>yogesh</th>\n",
       "    </tr>\n",
       "  </thead>\n",
       "  <tbody>\n",
       "    <tr>\n",
       "      <th>a</th>\n",
       "      <td>0.332858</td>\n",
       "      <td>0.556951</td>\n",
       "    </tr>\n",
       "    <tr>\n",
       "      <th>c</th>\n",
       "      <td>0.883521</td>\n",
       "      <td>0.680753</td>\n",
       "    </tr>\n",
       "    <tr>\n",
       "      <th>f</th>\n",
       "      <td>0.469042</td>\n",
       "      <td>0.202435</td>\n",
       "    </tr>\n",
       "    <tr>\n",
       "      <th>g</th>\n",
       "      <td>0.548193</td>\n",
       "      <td>0.478534</td>\n",
       "    </tr>\n",
       "    <tr>\n",
       "      <th>t</th>\n",
       "      <td>0.209079</td>\n",
       "      <td>0.989024</td>\n",
       "    </tr>\n",
       "  </tbody>\n",
       "</table>\n",
       "</div>"
      ],
      "text/plain": [
       "    aashima    yogesh\n",
       "a  0.332858  0.556951\n",
       "c  0.883521  0.680753\n",
       "f  0.469042  0.202435\n",
       "g  0.548193  0.478534\n",
       "t  0.209079  0.989024"
      ]
     },
     "execution_count": 36,
     "metadata": {},
     "output_type": "execute_result"
    }
   ],
   "source": [
    "df[['aashima','yogesh']]"
   ]
  },
  {
   "cell_type": "code",
   "execution_count": 37,
   "id": "50714f63",
   "metadata": {},
   "outputs": [
    {
     "data": {
      "text/html": [
       "<div>\n",
       "<style scoped>\n",
       "    .dataframe tbody tr th:only-of-type {\n",
       "        vertical-align: middle;\n",
       "    }\n",
       "\n",
       "    .dataframe tbody tr th {\n",
       "        vertical-align: top;\n",
       "    }\n",
       "\n",
       "    .dataframe thead th {\n",
       "        text-align: right;\n",
       "    }\n",
       "</style>\n",
       "<table border=\"1\" class=\"dataframe\">\n",
       "  <thead>\n",
       "    <tr style=\"text-align: right;\">\n",
       "      <th></th>\n",
       "      <th>tejaswini</th>\n",
       "      <th>aashima</th>\n",
       "      <th>yogesh</th>\n",
       "      <th>pravin</th>\n",
       "    </tr>\n",
       "  </thead>\n",
       "  <tbody>\n",
       "    <tr>\n",
       "      <th>a</th>\n",
       "      <td>0.339868</td>\n",
       "      <td>0.332858</td>\n",
       "      <td>0.556951</td>\n",
       "      <td>0.839451</td>\n",
       "    </tr>\n",
       "    <tr>\n",
       "      <th>c</th>\n",
       "      <td>0.777873</td>\n",
       "      <td>0.883521</td>\n",
       "      <td>0.680753</td>\n",
       "      <td>0.104139</td>\n",
       "    </tr>\n",
       "    <tr>\n",
       "      <th>f</th>\n",
       "      <td>0.754932</td>\n",
       "      <td>0.469042</td>\n",
       "      <td>0.202435</td>\n",
       "      <td>0.940436</td>\n",
       "    </tr>\n",
       "    <tr>\n",
       "      <th>g</th>\n",
       "      <td>0.351099</td>\n",
       "      <td>0.548193</td>\n",
       "      <td>0.478534</td>\n",
       "      <td>0.201357</td>\n",
       "    </tr>\n",
       "    <tr>\n",
       "      <th>t</th>\n",
       "      <td>0.582357</td>\n",
       "      <td>0.209079</td>\n",
       "      <td>0.989024</td>\n",
       "      <td>0.314500</td>\n",
       "    </tr>\n",
       "  </tbody>\n",
       "</table>\n",
       "</div>"
      ],
      "text/plain": [
       "   tejaswini   aashima    yogesh    pravin\n",
       "a   0.339868  0.332858  0.556951  0.839451\n",
       "c   0.777873  0.883521  0.680753  0.104139\n",
       "f   0.754932  0.469042  0.202435  0.940436\n",
       "g   0.351099  0.548193  0.478534  0.201357\n",
       "t   0.582357  0.209079  0.989024  0.314500"
      ]
     },
     "execution_count": 37,
     "metadata": {},
     "output_type": "execute_result"
    }
   ],
   "source": [
    "df"
   ]
  },
  {
   "cell_type": "code",
   "execution_count": 38,
   "id": "6275ccb1",
   "metadata": {},
   "outputs": [],
   "source": [
    "df['isha'] = [25,6,25,78,96]"
   ]
  },
  {
   "cell_type": "code",
   "execution_count": 39,
   "id": "a9350266",
   "metadata": {},
   "outputs": [
    {
     "data": {
      "text/html": [
       "<div>\n",
       "<style scoped>\n",
       "    .dataframe tbody tr th:only-of-type {\n",
       "        vertical-align: middle;\n",
       "    }\n",
       "\n",
       "    .dataframe tbody tr th {\n",
       "        vertical-align: top;\n",
       "    }\n",
       "\n",
       "    .dataframe thead th {\n",
       "        text-align: right;\n",
       "    }\n",
       "</style>\n",
       "<table border=\"1\" class=\"dataframe\">\n",
       "  <thead>\n",
       "    <tr style=\"text-align: right;\">\n",
       "      <th></th>\n",
       "      <th>tejaswini</th>\n",
       "      <th>aashima</th>\n",
       "      <th>yogesh</th>\n",
       "      <th>pravin</th>\n",
       "      <th>isha</th>\n",
       "    </tr>\n",
       "  </thead>\n",
       "  <tbody>\n",
       "    <tr>\n",
       "      <th>a</th>\n",
       "      <td>0.339868</td>\n",
       "      <td>0.332858</td>\n",
       "      <td>0.556951</td>\n",
       "      <td>0.839451</td>\n",
       "      <td>25</td>\n",
       "    </tr>\n",
       "    <tr>\n",
       "      <th>c</th>\n",
       "      <td>0.777873</td>\n",
       "      <td>0.883521</td>\n",
       "      <td>0.680753</td>\n",
       "      <td>0.104139</td>\n",
       "      <td>6</td>\n",
       "    </tr>\n",
       "    <tr>\n",
       "      <th>f</th>\n",
       "      <td>0.754932</td>\n",
       "      <td>0.469042</td>\n",
       "      <td>0.202435</td>\n",
       "      <td>0.940436</td>\n",
       "      <td>25</td>\n",
       "    </tr>\n",
       "    <tr>\n",
       "      <th>g</th>\n",
       "      <td>0.351099</td>\n",
       "      <td>0.548193</td>\n",
       "      <td>0.478534</td>\n",
       "      <td>0.201357</td>\n",
       "      <td>78</td>\n",
       "    </tr>\n",
       "    <tr>\n",
       "      <th>t</th>\n",
       "      <td>0.582357</td>\n",
       "      <td>0.209079</td>\n",
       "      <td>0.989024</td>\n",
       "      <td>0.314500</td>\n",
       "      <td>96</td>\n",
       "    </tr>\n",
       "  </tbody>\n",
       "</table>\n",
       "</div>"
      ],
      "text/plain": [
       "   tejaswini   aashima    yogesh    pravin  isha\n",
       "a   0.339868  0.332858  0.556951  0.839451    25\n",
       "c   0.777873  0.883521  0.680753  0.104139     6\n",
       "f   0.754932  0.469042  0.202435  0.940436    25\n",
       "g   0.351099  0.548193  0.478534  0.201357    78\n",
       "t   0.582357  0.209079  0.989024  0.314500    96"
      ]
     },
     "execution_count": 39,
     "metadata": {},
     "output_type": "execute_result"
    }
   ],
   "source": [
    "df"
   ]
  },
  {
   "cell_type": "code",
   "execution_count": 40,
   "id": "93dc0dc5",
   "metadata": {},
   "outputs": [],
   "source": [
    "df['dany'] = [25,6,4,7,8]"
   ]
  },
  {
   "cell_type": "code",
   "execution_count": 41,
   "id": "2cab8411",
   "metadata": {},
   "outputs": [
    {
     "data": {
      "text/html": [
       "<div>\n",
       "<style scoped>\n",
       "    .dataframe tbody tr th:only-of-type {\n",
       "        vertical-align: middle;\n",
       "    }\n",
       "\n",
       "    .dataframe tbody tr th {\n",
       "        vertical-align: top;\n",
       "    }\n",
       "\n",
       "    .dataframe thead th {\n",
       "        text-align: right;\n",
       "    }\n",
       "</style>\n",
       "<table border=\"1\" class=\"dataframe\">\n",
       "  <thead>\n",
       "    <tr style=\"text-align: right;\">\n",
       "      <th></th>\n",
       "      <th>tejaswini</th>\n",
       "      <th>aashima</th>\n",
       "      <th>yogesh</th>\n",
       "      <th>pravin</th>\n",
       "      <th>isha</th>\n",
       "      <th>dany</th>\n",
       "    </tr>\n",
       "  </thead>\n",
       "  <tbody>\n",
       "    <tr>\n",
       "      <th>a</th>\n",
       "      <td>0.339868</td>\n",
       "      <td>0.332858</td>\n",
       "      <td>0.556951</td>\n",
       "      <td>0.839451</td>\n",
       "      <td>25</td>\n",
       "      <td>25</td>\n",
       "    </tr>\n",
       "    <tr>\n",
       "      <th>c</th>\n",
       "      <td>0.777873</td>\n",
       "      <td>0.883521</td>\n",
       "      <td>0.680753</td>\n",
       "      <td>0.104139</td>\n",
       "      <td>6</td>\n",
       "      <td>6</td>\n",
       "    </tr>\n",
       "    <tr>\n",
       "      <th>f</th>\n",
       "      <td>0.754932</td>\n",
       "      <td>0.469042</td>\n",
       "      <td>0.202435</td>\n",
       "      <td>0.940436</td>\n",
       "      <td>25</td>\n",
       "      <td>4</td>\n",
       "    </tr>\n",
       "    <tr>\n",
       "      <th>g</th>\n",
       "      <td>0.351099</td>\n",
       "      <td>0.548193</td>\n",
       "      <td>0.478534</td>\n",
       "      <td>0.201357</td>\n",
       "      <td>78</td>\n",
       "      <td>7</td>\n",
       "    </tr>\n",
       "    <tr>\n",
       "      <th>t</th>\n",
       "      <td>0.582357</td>\n",
       "      <td>0.209079</td>\n",
       "      <td>0.989024</td>\n",
       "      <td>0.314500</td>\n",
       "      <td>96</td>\n",
       "      <td>8</td>\n",
       "    </tr>\n",
       "  </tbody>\n",
       "</table>\n",
       "</div>"
      ],
      "text/plain": [
       "   tejaswini   aashima    yogesh    pravin  isha  dany\n",
       "a   0.339868  0.332858  0.556951  0.839451    25    25\n",
       "c   0.777873  0.883521  0.680753  0.104139     6     6\n",
       "f   0.754932  0.469042  0.202435  0.940436    25     4\n",
       "g   0.351099  0.548193  0.478534  0.201357    78     7\n",
       "t   0.582357  0.209079  0.989024  0.314500    96     8"
      ]
     },
     "execution_count": 41,
     "metadata": {},
     "output_type": "execute_result"
    }
   ],
   "source": [
    "df"
   ]
  },
  {
   "cell_type": "code",
   "execution_count": 42,
   "id": "01bc12db",
   "metadata": {},
   "outputs": [
    {
     "data": {
      "text/html": [
       "<div>\n",
       "<style scoped>\n",
       "    .dataframe tbody tr th:only-of-type {\n",
       "        vertical-align: middle;\n",
       "    }\n",
       "\n",
       "    .dataframe tbody tr th {\n",
       "        vertical-align: top;\n",
       "    }\n",
       "\n",
       "    .dataframe thead th {\n",
       "        text-align: right;\n",
       "    }\n",
       "</style>\n",
       "<table border=\"1\" class=\"dataframe\">\n",
       "  <thead>\n",
       "    <tr style=\"text-align: right;\">\n",
       "      <th></th>\n",
       "      <th>tejaswini</th>\n",
       "      <th>aashima</th>\n",
       "      <th>yogesh</th>\n",
       "      <th>pravin</th>\n",
       "      <th>isha</th>\n",
       "    </tr>\n",
       "  </thead>\n",
       "  <tbody>\n",
       "    <tr>\n",
       "      <th>a</th>\n",
       "      <td>0.339868</td>\n",
       "      <td>0.332858</td>\n",
       "      <td>0.556951</td>\n",
       "      <td>0.839451</td>\n",
       "      <td>25</td>\n",
       "    </tr>\n",
       "    <tr>\n",
       "      <th>c</th>\n",
       "      <td>0.777873</td>\n",
       "      <td>0.883521</td>\n",
       "      <td>0.680753</td>\n",
       "      <td>0.104139</td>\n",
       "      <td>6</td>\n",
       "    </tr>\n",
       "    <tr>\n",
       "      <th>f</th>\n",
       "      <td>0.754932</td>\n",
       "      <td>0.469042</td>\n",
       "      <td>0.202435</td>\n",
       "      <td>0.940436</td>\n",
       "      <td>25</td>\n",
       "    </tr>\n",
       "    <tr>\n",
       "      <th>g</th>\n",
       "      <td>0.351099</td>\n",
       "      <td>0.548193</td>\n",
       "      <td>0.478534</td>\n",
       "      <td>0.201357</td>\n",
       "      <td>78</td>\n",
       "    </tr>\n",
       "    <tr>\n",
       "      <th>t</th>\n",
       "      <td>0.582357</td>\n",
       "      <td>0.209079</td>\n",
       "      <td>0.989024</td>\n",
       "      <td>0.314500</td>\n",
       "      <td>96</td>\n",
       "    </tr>\n",
       "  </tbody>\n",
       "</table>\n",
       "</div>"
      ],
      "text/plain": [
       "   tejaswini   aashima    yogesh    pravin  isha\n",
       "a   0.339868  0.332858  0.556951  0.839451    25\n",
       "c   0.777873  0.883521  0.680753  0.104139     6\n",
       "f   0.754932  0.469042  0.202435  0.940436    25\n",
       "g   0.351099  0.548193  0.478534  0.201357    78\n",
       "t   0.582357  0.209079  0.989024  0.314500    96"
      ]
     },
     "execution_count": 42,
     "metadata": {},
     "output_type": "execute_result"
    }
   ],
   "source": [
    "df.drop('dany',axis=1)"
   ]
  },
  {
   "cell_type": "code",
   "execution_count": 44,
   "id": "663846fb",
   "metadata": {},
   "outputs": [
    {
     "data": {
      "text/html": [
       "<div>\n",
       "<style scoped>\n",
       "    .dataframe tbody tr th:only-of-type {\n",
       "        vertical-align: middle;\n",
       "    }\n",
       "\n",
       "    .dataframe tbody tr th {\n",
       "        vertical-align: top;\n",
       "    }\n",
       "\n",
       "    .dataframe thead th {\n",
       "        text-align: right;\n",
       "    }\n",
       "</style>\n",
       "<table border=\"1\" class=\"dataframe\">\n",
       "  <thead>\n",
       "    <tr style=\"text-align: right;\">\n",
       "      <th></th>\n",
       "      <th>tejaswini</th>\n",
       "      <th>aashima</th>\n",
       "      <th>yogesh</th>\n",
       "      <th>pravin</th>\n",
       "      <th>isha</th>\n",
       "      <th>dany</th>\n",
       "    </tr>\n",
       "  </thead>\n",
       "  <tbody>\n",
       "    <tr>\n",
       "      <th>a</th>\n",
       "      <td>0.339868</td>\n",
       "      <td>0.332858</td>\n",
       "      <td>0.556951</td>\n",
       "      <td>0.839451</td>\n",
       "      <td>25</td>\n",
       "      <td>25</td>\n",
       "    </tr>\n",
       "    <tr>\n",
       "      <th>c</th>\n",
       "      <td>0.777873</td>\n",
       "      <td>0.883521</td>\n",
       "      <td>0.680753</td>\n",
       "      <td>0.104139</td>\n",
       "      <td>6</td>\n",
       "      <td>6</td>\n",
       "    </tr>\n",
       "    <tr>\n",
       "      <th>f</th>\n",
       "      <td>0.754932</td>\n",
       "      <td>0.469042</td>\n",
       "      <td>0.202435</td>\n",
       "      <td>0.940436</td>\n",
       "      <td>25</td>\n",
       "      <td>4</td>\n",
       "    </tr>\n",
       "    <tr>\n",
       "      <th>g</th>\n",
       "      <td>0.351099</td>\n",
       "      <td>0.548193</td>\n",
       "      <td>0.478534</td>\n",
       "      <td>0.201357</td>\n",
       "      <td>78</td>\n",
       "      <td>7</td>\n",
       "    </tr>\n",
       "    <tr>\n",
       "      <th>t</th>\n",
       "      <td>0.582357</td>\n",
       "      <td>0.209079</td>\n",
       "      <td>0.989024</td>\n",
       "      <td>0.314500</td>\n",
       "      <td>96</td>\n",
       "      <td>8</td>\n",
       "    </tr>\n",
       "  </tbody>\n",
       "</table>\n",
       "</div>"
      ],
      "text/plain": [
       "   tejaswini   aashima    yogesh    pravin  isha  dany\n",
       "a   0.339868  0.332858  0.556951  0.839451    25    25\n",
       "c   0.777873  0.883521  0.680753  0.104139     6     6\n",
       "f   0.754932  0.469042  0.202435  0.940436    25     4\n",
       "g   0.351099  0.548193  0.478534  0.201357    78     7\n",
       "t   0.582357  0.209079  0.989024  0.314500    96     8"
      ]
     },
     "execution_count": 44,
     "metadata": {},
     "output_type": "execute_result"
    }
   ],
   "source": [
    "df"
   ]
  },
  {
   "cell_type": "code",
   "execution_count": 45,
   "id": "633d3492",
   "metadata": {},
   "outputs": [],
   "source": [
    "df.drop('dany',axis=1,inplace=True)"
   ]
  },
  {
   "cell_type": "code",
   "execution_count": 46,
   "id": "fd2d274e",
   "metadata": {},
   "outputs": [
    {
     "data": {
      "text/html": [
       "<div>\n",
       "<style scoped>\n",
       "    .dataframe tbody tr th:only-of-type {\n",
       "        vertical-align: middle;\n",
       "    }\n",
       "\n",
       "    .dataframe tbody tr th {\n",
       "        vertical-align: top;\n",
       "    }\n",
       "\n",
       "    .dataframe thead th {\n",
       "        text-align: right;\n",
       "    }\n",
       "</style>\n",
       "<table border=\"1\" class=\"dataframe\">\n",
       "  <thead>\n",
       "    <tr style=\"text-align: right;\">\n",
       "      <th></th>\n",
       "      <th>tejaswini</th>\n",
       "      <th>aashima</th>\n",
       "      <th>yogesh</th>\n",
       "      <th>pravin</th>\n",
       "      <th>isha</th>\n",
       "    </tr>\n",
       "  </thead>\n",
       "  <tbody>\n",
       "    <tr>\n",
       "      <th>a</th>\n",
       "      <td>0.339868</td>\n",
       "      <td>0.332858</td>\n",
       "      <td>0.556951</td>\n",
       "      <td>0.839451</td>\n",
       "      <td>25</td>\n",
       "    </tr>\n",
       "    <tr>\n",
       "      <th>c</th>\n",
       "      <td>0.777873</td>\n",
       "      <td>0.883521</td>\n",
       "      <td>0.680753</td>\n",
       "      <td>0.104139</td>\n",
       "      <td>6</td>\n",
       "    </tr>\n",
       "    <tr>\n",
       "      <th>f</th>\n",
       "      <td>0.754932</td>\n",
       "      <td>0.469042</td>\n",
       "      <td>0.202435</td>\n",
       "      <td>0.940436</td>\n",
       "      <td>25</td>\n",
       "    </tr>\n",
       "    <tr>\n",
       "      <th>g</th>\n",
       "      <td>0.351099</td>\n",
       "      <td>0.548193</td>\n",
       "      <td>0.478534</td>\n",
       "      <td>0.201357</td>\n",
       "      <td>78</td>\n",
       "    </tr>\n",
       "    <tr>\n",
       "      <th>t</th>\n",
       "      <td>0.582357</td>\n",
       "      <td>0.209079</td>\n",
       "      <td>0.989024</td>\n",
       "      <td>0.314500</td>\n",
       "      <td>96</td>\n",
       "    </tr>\n",
       "  </tbody>\n",
       "</table>\n",
       "</div>"
      ],
      "text/plain": [
       "   tejaswini   aashima    yogesh    pravin  isha\n",
       "a   0.339868  0.332858  0.556951  0.839451    25\n",
       "c   0.777873  0.883521  0.680753  0.104139     6\n",
       "f   0.754932  0.469042  0.202435  0.940436    25\n",
       "g   0.351099  0.548193  0.478534  0.201357    78\n",
       "t   0.582357  0.209079  0.989024  0.314500    96"
      ]
     },
     "execution_count": 46,
     "metadata": {},
     "output_type": "execute_result"
    }
   ],
   "source": [
    "df"
   ]
  },
  {
   "cell_type": "code",
   "execution_count": 47,
   "id": "d511107e",
   "metadata": {},
   "outputs": [],
   "source": [
    "df.drop('isha',axis=1,inplace=True)"
   ]
  },
  {
   "cell_type": "code",
   "execution_count": 48,
   "id": "9aa7d95b",
   "metadata": {},
   "outputs": [
    {
     "data": {
      "text/html": [
       "<div>\n",
       "<style scoped>\n",
       "    .dataframe tbody tr th:only-of-type {\n",
       "        vertical-align: middle;\n",
       "    }\n",
       "\n",
       "    .dataframe tbody tr th {\n",
       "        vertical-align: top;\n",
       "    }\n",
       "\n",
       "    .dataframe thead th {\n",
       "        text-align: right;\n",
       "    }\n",
       "</style>\n",
       "<table border=\"1\" class=\"dataframe\">\n",
       "  <thead>\n",
       "    <tr style=\"text-align: right;\">\n",
       "      <th></th>\n",
       "      <th>tejaswini</th>\n",
       "      <th>aashima</th>\n",
       "      <th>yogesh</th>\n",
       "      <th>pravin</th>\n",
       "    </tr>\n",
       "  </thead>\n",
       "  <tbody>\n",
       "    <tr>\n",
       "      <th>a</th>\n",
       "      <td>0.339868</td>\n",
       "      <td>0.332858</td>\n",
       "      <td>0.556951</td>\n",
       "      <td>0.839451</td>\n",
       "    </tr>\n",
       "    <tr>\n",
       "      <th>c</th>\n",
       "      <td>0.777873</td>\n",
       "      <td>0.883521</td>\n",
       "      <td>0.680753</td>\n",
       "      <td>0.104139</td>\n",
       "    </tr>\n",
       "    <tr>\n",
       "      <th>f</th>\n",
       "      <td>0.754932</td>\n",
       "      <td>0.469042</td>\n",
       "      <td>0.202435</td>\n",
       "      <td>0.940436</td>\n",
       "    </tr>\n",
       "    <tr>\n",
       "      <th>g</th>\n",
       "      <td>0.351099</td>\n",
       "      <td>0.548193</td>\n",
       "      <td>0.478534</td>\n",
       "      <td>0.201357</td>\n",
       "    </tr>\n",
       "    <tr>\n",
       "      <th>t</th>\n",
       "      <td>0.582357</td>\n",
       "      <td>0.209079</td>\n",
       "      <td>0.989024</td>\n",
       "      <td>0.314500</td>\n",
       "    </tr>\n",
       "  </tbody>\n",
       "</table>\n",
       "</div>"
      ],
      "text/plain": [
       "   tejaswini   aashima    yogesh    pravin\n",
       "a   0.339868  0.332858  0.556951  0.839451\n",
       "c   0.777873  0.883521  0.680753  0.104139\n",
       "f   0.754932  0.469042  0.202435  0.940436\n",
       "g   0.351099  0.548193  0.478534  0.201357\n",
       "t   0.582357  0.209079  0.989024  0.314500"
      ]
     },
     "execution_count": 48,
     "metadata": {},
     "output_type": "execute_result"
    }
   ],
   "source": [
    "df"
   ]
  },
  {
   "cell_type": "code",
   "execution_count": 49,
   "id": "815a59ab",
   "metadata": {},
   "outputs": [
    {
     "data": {
      "text/html": [
       "<div>\n",
       "<style scoped>\n",
       "    .dataframe tbody tr th:only-of-type {\n",
       "        vertical-align: middle;\n",
       "    }\n",
       "\n",
       "    .dataframe tbody tr th {\n",
       "        vertical-align: top;\n",
       "    }\n",
       "\n",
       "    .dataframe thead th {\n",
       "        text-align: right;\n",
       "    }\n",
       "</style>\n",
       "<table border=\"1\" class=\"dataframe\">\n",
       "  <thead>\n",
       "    <tr style=\"text-align: right;\">\n",
       "      <th></th>\n",
       "      <th>tejaswini</th>\n",
       "      <th>aashima</th>\n",
       "      <th>yogesh</th>\n",
       "      <th>pravin</th>\n",
       "    </tr>\n",
       "  </thead>\n",
       "  <tbody>\n",
       "    <tr>\n",
       "      <th>a</th>\n",
       "      <td>0.339868</td>\n",
       "      <td>0.332858</td>\n",
       "      <td>0.556951</td>\n",
       "      <td>0.839451</td>\n",
       "    </tr>\n",
       "    <tr>\n",
       "      <th>c</th>\n",
       "      <td>0.777873</td>\n",
       "      <td>0.883521</td>\n",
       "      <td>0.680753</td>\n",
       "      <td>0.104139</td>\n",
       "    </tr>\n",
       "    <tr>\n",
       "      <th>f</th>\n",
       "      <td>0.754932</td>\n",
       "      <td>0.469042</td>\n",
       "      <td>0.202435</td>\n",
       "      <td>0.940436</td>\n",
       "    </tr>\n",
       "    <tr>\n",
       "      <th>g</th>\n",
       "      <td>0.351099</td>\n",
       "      <td>0.548193</td>\n",
       "      <td>0.478534</td>\n",
       "      <td>0.201357</td>\n",
       "    </tr>\n",
       "    <tr>\n",
       "      <th>t</th>\n",
       "      <td>0.582357</td>\n",
       "      <td>0.209079</td>\n",
       "      <td>0.989024</td>\n",
       "      <td>0.314500</td>\n",
       "    </tr>\n",
       "  </tbody>\n",
       "</table>\n",
       "</div>"
      ],
      "text/plain": [
       "   tejaswini   aashima    yogesh    pravin\n",
       "a   0.339868  0.332858  0.556951  0.839451\n",
       "c   0.777873  0.883521  0.680753  0.104139\n",
       "f   0.754932  0.469042  0.202435  0.940436\n",
       "g   0.351099  0.548193  0.478534  0.201357\n",
       "t   0.582357  0.209079  0.989024  0.314500"
      ]
     },
     "execution_count": 49,
     "metadata": {},
     "output_type": "execute_result"
    }
   ],
   "source": [
    "df"
   ]
  },
  {
   "cell_type": "code",
   "execution_count": 50,
   "id": "4d7c94ff",
   "metadata": {},
   "outputs": [
    {
     "data": {
      "text/plain": [
       "tejaswini    0.339868\n",
       "aashima      0.332858\n",
       "yogesh       0.556951\n",
       "pravin       0.839451\n",
       "Name: a, dtype: float64"
      ]
     },
     "execution_count": 50,
     "metadata": {},
     "output_type": "execute_result"
    }
   ],
   "source": [
    "df.loc['a']"
   ]
  },
  {
   "cell_type": "code",
   "execution_count": 51,
   "id": "c2c1fca8",
   "metadata": {},
   "outputs": [
    {
     "data": {
      "text/plain": [
       "tejaswini    0.339868\n",
       "aashima      0.332858\n",
       "yogesh       0.556951\n",
       "pravin       0.839451\n",
       "Name: a, dtype: float64"
      ]
     },
     "execution_count": 51,
     "metadata": {},
     "output_type": "execute_result"
    }
   ],
   "source": [
    "df.iloc[0]"
   ]
  },
  {
   "cell_type": "code",
   "execution_count": 52,
   "id": "51313bf0",
   "metadata": {},
   "outputs": [
    {
     "data": {
      "text/html": [
       "<div>\n",
       "<style scoped>\n",
       "    .dataframe tbody tr th:only-of-type {\n",
       "        vertical-align: middle;\n",
       "    }\n",
       "\n",
       "    .dataframe tbody tr th {\n",
       "        vertical-align: top;\n",
       "    }\n",
       "\n",
       "    .dataframe thead th {\n",
       "        text-align: right;\n",
       "    }\n",
       "</style>\n",
       "<table border=\"1\" class=\"dataframe\">\n",
       "  <thead>\n",
       "    <tr style=\"text-align: right;\">\n",
       "      <th></th>\n",
       "      <th>tejaswini</th>\n",
       "      <th>aashima</th>\n",
       "      <th>yogesh</th>\n",
       "      <th>pravin</th>\n",
       "    </tr>\n",
       "  </thead>\n",
       "  <tbody>\n",
       "    <tr>\n",
       "      <th>c</th>\n",
       "      <td>0.777873</td>\n",
       "      <td>0.883521</td>\n",
       "      <td>0.680753</td>\n",
       "      <td>0.104139</td>\n",
       "    </tr>\n",
       "    <tr>\n",
       "      <th>f</th>\n",
       "      <td>0.754932</td>\n",
       "      <td>0.469042</td>\n",
       "      <td>0.202435</td>\n",
       "      <td>0.940436</td>\n",
       "    </tr>\n",
       "    <tr>\n",
       "      <th>g</th>\n",
       "      <td>0.351099</td>\n",
       "      <td>0.548193</td>\n",
       "      <td>0.478534</td>\n",
       "      <td>0.201357</td>\n",
       "    </tr>\n",
       "  </tbody>\n",
       "</table>\n",
       "</div>"
      ],
      "text/plain": [
       "   tejaswini   aashima    yogesh    pravin\n",
       "c   0.777873  0.883521  0.680753  0.104139\n",
       "f   0.754932  0.469042  0.202435  0.940436\n",
       "g   0.351099  0.548193  0.478534  0.201357"
      ]
     },
     "execution_count": 52,
     "metadata": {},
     "output_type": "execute_result"
    }
   ],
   "source": [
    "df.loc[['c','f','g']]"
   ]
  },
  {
   "cell_type": "code",
   "execution_count": 53,
   "id": "746aa3b2",
   "metadata": {},
   "outputs": [
    {
     "data": {
      "text/html": [
       "<div>\n",
       "<style scoped>\n",
       "    .dataframe tbody tr th:only-of-type {\n",
       "        vertical-align: middle;\n",
       "    }\n",
       "\n",
       "    .dataframe tbody tr th {\n",
       "        vertical-align: top;\n",
       "    }\n",
       "\n",
       "    .dataframe thead th {\n",
       "        text-align: right;\n",
       "    }\n",
       "</style>\n",
       "<table border=\"1\" class=\"dataframe\">\n",
       "  <thead>\n",
       "    <tr style=\"text-align: right;\">\n",
       "      <th></th>\n",
       "      <th>tejaswini</th>\n",
       "      <th>aashima</th>\n",
       "      <th>yogesh</th>\n",
       "      <th>pravin</th>\n",
       "    </tr>\n",
       "  </thead>\n",
       "  <tbody>\n",
       "    <tr>\n",
       "      <th>c</th>\n",
       "      <td>0.777873</td>\n",
       "      <td>0.883521</td>\n",
       "      <td>0.680753</td>\n",
       "      <td>0.104139</td>\n",
       "    </tr>\n",
       "    <tr>\n",
       "      <th>f</th>\n",
       "      <td>0.754932</td>\n",
       "      <td>0.469042</td>\n",
       "      <td>0.202435</td>\n",
       "      <td>0.940436</td>\n",
       "    </tr>\n",
       "    <tr>\n",
       "      <th>g</th>\n",
       "      <td>0.351099</td>\n",
       "      <td>0.548193</td>\n",
       "      <td>0.478534</td>\n",
       "      <td>0.201357</td>\n",
       "    </tr>\n",
       "  </tbody>\n",
       "</table>\n",
       "</div>"
      ],
      "text/plain": [
       "   tejaswini   aashima    yogesh    pravin\n",
       "c   0.777873  0.883521  0.680753  0.104139\n",
       "f   0.754932  0.469042  0.202435  0.940436\n",
       "g   0.351099  0.548193  0.478534  0.201357"
      ]
     },
     "execution_count": 53,
     "metadata": {},
     "output_type": "execute_result"
    }
   ],
   "source": [
    "df.iloc[1:4]"
   ]
  },
  {
   "cell_type": "code",
   "execution_count": 54,
   "id": "3312c366",
   "metadata": {},
   "outputs": [
    {
     "data": {
      "text/html": [
       "<div>\n",
       "<style scoped>\n",
       "    .dataframe tbody tr th:only-of-type {\n",
       "        vertical-align: middle;\n",
       "    }\n",
       "\n",
       "    .dataframe tbody tr th {\n",
       "        vertical-align: top;\n",
       "    }\n",
       "\n",
       "    .dataframe thead th {\n",
       "        text-align: right;\n",
       "    }\n",
       "</style>\n",
       "<table border=\"1\" class=\"dataframe\">\n",
       "  <thead>\n",
       "    <tr style=\"text-align: right;\">\n",
       "      <th></th>\n",
       "      <th>tejaswini</th>\n",
       "      <th>aashima</th>\n",
       "      <th>yogesh</th>\n",
       "      <th>pravin</th>\n",
       "    </tr>\n",
       "  </thead>\n",
       "  <tbody>\n",
       "    <tr>\n",
       "      <th>a</th>\n",
       "      <td>0.339868</td>\n",
       "      <td>0.332858</td>\n",
       "      <td>0.556951</td>\n",
       "      <td>0.839451</td>\n",
       "    </tr>\n",
       "    <tr>\n",
       "      <th>c</th>\n",
       "      <td>0.777873</td>\n",
       "      <td>0.883521</td>\n",
       "      <td>0.680753</td>\n",
       "      <td>0.104139</td>\n",
       "    </tr>\n",
       "    <tr>\n",
       "      <th>f</th>\n",
       "      <td>0.754932</td>\n",
       "      <td>0.469042</td>\n",
       "      <td>0.202435</td>\n",
       "      <td>0.940436</td>\n",
       "    </tr>\n",
       "    <tr>\n",
       "      <th>t</th>\n",
       "      <td>0.582357</td>\n",
       "      <td>0.209079</td>\n",
       "      <td>0.989024</td>\n",
       "      <td>0.314500</td>\n",
       "    </tr>\n",
       "  </tbody>\n",
       "</table>\n",
       "</div>"
      ],
      "text/plain": [
       "   tejaswini   aashima    yogesh    pravin\n",
       "a   0.339868  0.332858  0.556951  0.839451\n",
       "c   0.777873  0.883521  0.680753  0.104139\n",
       "f   0.754932  0.469042  0.202435  0.940436\n",
       "t   0.582357  0.209079  0.989024  0.314500"
      ]
     },
     "execution_count": 54,
     "metadata": {},
     "output_type": "execute_result"
    }
   ],
   "source": [
    "df.drop('g',axis=0)"
   ]
  },
  {
   "cell_type": "code",
   "execution_count": 55,
   "id": "95690beb",
   "metadata": {},
   "outputs": [
    {
     "data": {
      "text/plain": [
       "(5, 4)"
      ]
     },
     "execution_count": 55,
     "metadata": {},
     "output_type": "execute_result"
    }
   ],
   "source": [
    "df.shape"
   ]
  },
  {
   "cell_type": "code",
   "execution_count": 56,
   "id": "15d69361",
   "metadata": {},
   "outputs": [
    {
     "data": {
      "text/html": [
       "<div>\n",
       "<style scoped>\n",
       "    .dataframe tbody tr th:only-of-type {\n",
       "        vertical-align: middle;\n",
       "    }\n",
       "\n",
       "    .dataframe tbody tr th {\n",
       "        vertical-align: top;\n",
       "    }\n",
       "\n",
       "    .dataframe thead th {\n",
       "        text-align: right;\n",
       "    }\n",
       "</style>\n",
       "<table border=\"1\" class=\"dataframe\">\n",
       "  <thead>\n",
       "    <tr style=\"text-align: right;\">\n",
       "      <th></th>\n",
       "      <th>tejaswini</th>\n",
       "      <th>aashima</th>\n",
       "      <th>yogesh</th>\n",
       "      <th>pravin</th>\n",
       "    </tr>\n",
       "  </thead>\n",
       "  <tbody>\n",
       "    <tr>\n",
       "      <th>a</th>\n",
       "      <td>0.339868</td>\n",
       "      <td>0.332858</td>\n",
       "      <td>0.556951</td>\n",
       "      <td>0.839451</td>\n",
       "    </tr>\n",
       "    <tr>\n",
       "      <th>c</th>\n",
       "      <td>0.777873</td>\n",
       "      <td>0.883521</td>\n",
       "      <td>0.680753</td>\n",
       "      <td>0.104139</td>\n",
       "    </tr>\n",
       "    <tr>\n",
       "      <th>f</th>\n",
       "      <td>0.754932</td>\n",
       "      <td>0.469042</td>\n",
       "      <td>0.202435</td>\n",
       "      <td>0.940436</td>\n",
       "    </tr>\n",
       "    <tr>\n",
       "      <th>g</th>\n",
       "      <td>0.351099</td>\n",
       "      <td>0.548193</td>\n",
       "      <td>0.478534</td>\n",
       "      <td>0.201357</td>\n",
       "    </tr>\n",
       "    <tr>\n",
       "      <th>t</th>\n",
       "      <td>0.582357</td>\n",
       "      <td>0.209079</td>\n",
       "      <td>0.989024</td>\n",
       "      <td>0.314500</td>\n",
       "    </tr>\n",
       "  </tbody>\n",
       "</table>\n",
       "</div>"
      ],
      "text/plain": [
       "   tejaswini   aashima    yogesh    pravin\n",
       "a   0.339868  0.332858  0.556951  0.839451\n",
       "c   0.777873  0.883521  0.680753  0.104139\n",
       "f   0.754932  0.469042  0.202435  0.940436\n",
       "g   0.351099  0.548193  0.478534  0.201357\n",
       "t   0.582357  0.209079  0.989024  0.314500"
      ]
     },
     "execution_count": 56,
     "metadata": {},
     "output_type": "execute_result"
    }
   ],
   "source": [
    "df"
   ]
  },
  {
   "cell_type": "code",
   "execution_count": 57,
   "id": "9d656d4b",
   "metadata": {},
   "outputs": [],
   "source": [
    "df.drop('g',axis=0,inplace=True)"
   ]
  },
  {
   "cell_type": "code",
   "execution_count": 58,
   "id": "1c18fd37",
   "metadata": {},
   "outputs": [
    {
     "data": {
      "text/html": [
       "<div>\n",
       "<style scoped>\n",
       "    .dataframe tbody tr th:only-of-type {\n",
       "        vertical-align: middle;\n",
       "    }\n",
       "\n",
       "    .dataframe tbody tr th {\n",
       "        vertical-align: top;\n",
       "    }\n",
       "\n",
       "    .dataframe thead th {\n",
       "        text-align: right;\n",
       "    }\n",
       "</style>\n",
       "<table border=\"1\" class=\"dataframe\">\n",
       "  <thead>\n",
       "    <tr style=\"text-align: right;\">\n",
       "      <th></th>\n",
       "      <th>tejaswini</th>\n",
       "      <th>aashima</th>\n",
       "      <th>yogesh</th>\n",
       "      <th>pravin</th>\n",
       "    </tr>\n",
       "  </thead>\n",
       "  <tbody>\n",
       "    <tr>\n",
       "      <th>a</th>\n",
       "      <td>0.339868</td>\n",
       "      <td>0.332858</td>\n",
       "      <td>0.556951</td>\n",
       "      <td>0.839451</td>\n",
       "    </tr>\n",
       "    <tr>\n",
       "      <th>c</th>\n",
       "      <td>0.777873</td>\n",
       "      <td>0.883521</td>\n",
       "      <td>0.680753</td>\n",
       "      <td>0.104139</td>\n",
       "    </tr>\n",
       "    <tr>\n",
       "      <th>f</th>\n",
       "      <td>0.754932</td>\n",
       "      <td>0.469042</td>\n",
       "      <td>0.202435</td>\n",
       "      <td>0.940436</td>\n",
       "    </tr>\n",
       "    <tr>\n",
       "      <th>t</th>\n",
       "      <td>0.582357</td>\n",
       "      <td>0.209079</td>\n",
       "      <td>0.989024</td>\n",
       "      <td>0.314500</td>\n",
       "    </tr>\n",
       "  </tbody>\n",
       "</table>\n",
       "</div>"
      ],
      "text/plain": [
       "   tejaswini   aashima    yogesh    pravin\n",
       "a   0.339868  0.332858  0.556951  0.839451\n",
       "c   0.777873  0.883521  0.680753  0.104139\n",
       "f   0.754932  0.469042  0.202435  0.940436\n",
       "t   0.582357  0.209079  0.989024  0.314500"
      ]
     },
     "execution_count": 58,
     "metadata": {},
     "output_type": "execute_result"
    }
   ],
   "source": [
    "df"
   ]
  },
  {
   "cell_type": "code",
   "execution_count": null,
   "id": "fbe91bce",
   "metadata": {},
   "outputs": [],
   "source": []
  }
 ],
 "metadata": {
  "kernelspec": {
   "display_name": "Python 3 (ipykernel)",
   "language": "python",
   "name": "python3"
  },
  "language_info": {
   "codemirror_mode": {
    "name": "ipython",
    "version": 3
   },
   "file_extension": ".py",
   "mimetype": "text/x-python",
   "name": "python",
   "nbconvert_exporter": "python",
   "pygments_lexer": "ipython3",
   "version": "3.9.12"
  }
 },
 "nbformat": 4,
 "nbformat_minor": 5
}
